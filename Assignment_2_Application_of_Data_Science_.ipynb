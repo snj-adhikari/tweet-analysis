{
  "nbformat": 4,
  "nbformat_minor": 0,
  "metadata": {
    "colab": {
      "name": "Assignment_2_Application_of_Data_Science_.ipynb",
      "provenance": [],
      "collapsed_sections": [],
      "toc_visible": true
    },
    "kernelspec": {
      "name": "python3",
      "display_name": "Python 3"
    }
  },
  "cells": [
    {
      "cell_type": "markdown",
      "metadata": {
        "id": "iLcHvkoK1X4R",
        "colab_type": "text"
      },
      "source": [
        "# TWITTER ANALYSIS"
      ]
    },
    {
      "cell_type": "markdown",
      "metadata": {
        "id": "KgNkzygJ9D1o",
        "colab_type": "text"
      },
      "source": [
        "The code for this analysis can be found on the following url : [Personal Repository](https://github.com/snj-adhikari/tweet-analysis)"
      ]
    },
    {
      "cell_type": "markdown",
      "metadata": {
        "id": "gPYhBzZCdM_z",
        "colab_type": "text"
      },
      "source": [
        "The blog that compares and analyse the tweets of obama and donald trump was very useful and was source of influence. \n",
        "[Almost Realt time twitter sentiment analysis](https://towardsdatascience.com/almost-real-time-twitter-sentiment-analysis-with-tweep-vader-f88ed5b93b1c)"
      ]
    },
    {
      "cell_type": "markdown",
      "metadata": {
        "id": "VP2gU_ld1h5p",
        "colab_type": "text"
      },
      "source": [
        "## Getting Started "
      ]
    },
    {
      "cell_type": "markdown",
      "metadata": {
        "id": "Bf6_2fyY5Xco",
        "colab_type": "text"
      },
      "source": [
        "### Setting up tweep and getting user data "
      ]
    },
    {
      "cell_type": "markdown",
      "metadata": {
        "id": "wtCJ6NpP5r1b",
        "colab_type": "text"
      },
      "source": [
        "lets keep the authentication and access  key to setup tweepy."
      ]
    },
    {
      "cell_type": "code",
      "metadata": {
        "id": "Nv3XKU1s1WIX",
        "colab_type": "code",
        "colab": {}
      },
      "source": [
        "import tweepy\n",
        "from tweepy import OAuthHandler\n",
        "import json\n",
        "import os\n",
        "\n",
        "import pandas as pd\n",
        " \n",
        "\n",
        "\n",
        "## FILL IN YOUR OWN DETAILS HERE ##\n",
        "\n",
        "##\n",
        "\n",
        "consumer_key = ''\n",
        "consumer_secret = ''\n",
        "access_token = ''\n",
        "access_secret = ''\n",
        " \n",
        "auth = OAuthHandler(consumer_key, consumer_secret)\n",
        "auth.set_access_token(access_token, access_secret)\n",
        "api = tweepy.API(auth)\n",
        "\n"
      ],
      "execution_count": 0,
      "outputs": []
    },
    {
      "cell_type": "markdown",
      "metadata": {
        "id": "SpeaXFvO5nSj",
        "colab_type": "text"
      },
      "source": [
        "Lets get the users tweet now."
      ]
    },
    {
      "cell_type": "code",
      "metadata": {
        "id": "Nk-8MhXv5miO",
        "colab_type": "code",
        "outputId": "b8e562e1-9c8c-4814-de6b-c3229d178885",
        "colab": {
          "base_uri": "https://localhost:8080/",
          "height": 199
        }
      },
      "source": [
        "\n",
        "user_1_astrophysicist= 'jimmyfallon'\n",
        "user_2_politics = 'BarackObama'\n",
        "\n",
        "first_tweet_file = 'jimmyfallon.json'\n",
        "\n",
        "second_tweet_file = 'barack_obama.json'\n",
        "\n",
        "\n",
        "user_1 = api.get_user(user_1_astrophysicist)\n",
        "\n",
        "\n",
        "print(\"*********** user 1 detail ***************\")\n",
        "print (user_1.screen_name)\n",
        "print (user_1.name)\n",
        "print(user_1.description)\n",
        "print(user_1.location)\n",
        "\n",
        "\n",
        "\n",
        "user_2 = api.get_user(user_2_politics)\n",
        "\n",
        "print(\"*********** user 2 detail ***************\")\n",
        "print (user_2.screen_name)\n",
        "print (user_2.name)\n",
        "print(user_2.description)\n",
        "print(user_2.location)\n",
        "\n",
        "\n",
        "\n"
      ],
      "execution_count": 0,
      "outputs": [
        {
          "output_type": "stream",
          "text": [
            "*********** user 1 detail ***************\n",
            "jimmyfallon\n",
            "jimmy fallon\n",
            "astrophysicist\n",
            "New York, New York\n",
            "*********** user 2 detail ***************\n",
            "BarackObama\n",
            "Barack Obama\n",
            "Dad, husband, President, citizen.\n",
            "Washington, DC\n"
          ],
          "name": "stdout"
        }
      ]
    },
    {
      "cell_type": "markdown",
      "metadata": {
        "id": "13QC5axnEtS_",
        "colab_type": "text"
      },
      "source": [
        "Getting user_1 => Jimmy Fallon (astrophysicis) tweet data and saving into json  \n",
        "\n",
        "Getting user_2 => Barack Obama (Politician) tweet data and saving into json "
      ]
    },
    {
      "cell_type": "code",
      "metadata": {
        "id": "KZBvOBP9ExT-",
        "colab_type": "code",
        "outputId": "5c5e99ca-3dfe-4d01-8757-3d5ba2faaa00",
        "colab": {
          "base_uri": "https://localhost:8080/",
          "height": 90
        }
      },
      "source": [
        "\n",
        "second_user_tweets = api.user_timeline(screen_name = user_2_politics , count = 200 )\n",
        "first_user_tweets = api.user_timeline(screen_name = user_1_astrophysicist , count = 200 )\n",
        "\n",
        "\n",
        "print('first_user_tweets len' , len(first_user_tweets));\n",
        "print('second_user_tweets len' , len(second_user_tweets))\n",
        "if os.path.exists(first_tweet_file):\n",
        "    os.remove(first_tweet_file)\n",
        "if os.path.exists(second_tweet_file):\n",
        "    os.remove(second_tweet_file)\n",
        "\n",
        "with open(first_tweet_file, 'w') as outfile:\n",
        "    for tweet in first_user_tweets:\n",
        "        json.dump(tweet._json, outfile, sort_keys=True)\n",
        "        outfile.write('\\n')\n",
        "#         print(tweet.text)\n",
        "    print(\"Successfully created json file from first tweet\")\n",
        "        \n",
        "with open(second_tweet_file, 'w') as outfile:\n",
        "    for tweet in second_user_tweets:\n",
        "        json.dump(tweet._json, outfile, sort_keys=True)\n",
        "        outfile.write('\\n')\n",
        "#         print(tweet.text)\n",
        "    print(\"successfully created json file from second tweet as well\")\n",
        "\n"
      ],
      "execution_count": 0,
      "outputs": [
        {
          "output_type": "stream",
          "text": [
            "first_user_tweets len 200\n",
            "second_user_tweets len 200\n",
            "Successfully created json file from first tweet\n",
            "successfully created json file from second tweet as well\n"
          ],
          "name": "stdout"
        }
      ]
    },
    {
      "cell_type": "markdown",
      "metadata": {
        "id": "cj-53WBtH_qt",
        "colab_type": "text"
      },
      "source": [
        "### Creating a  Data frame from tweet files\n"
      ]
    },
    {
      "cell_type": "code",
      "metadata": {
        "id": "nld5hsEaDM-N",
        "colab_type": "code",
        "outputId": "b78fd323-8552-40a4-a1c3-93a3ca329ae9",
        "colab": {
          "base_uri": "https://localhost:8080/",
          "height": 235
        }
      },
      "source": [
        "\n",
        "# Reading jimmy fallon tweets\n",
        "read_in_first_tweets = []\n",
        "for line in open(first_tweet_file, 'r'):\n",
        "    read_in_first_tweets.append(json.loads(line))\n",
        "    \n",
        "#Reading barack obama tweets \n",
        "\n",
        "read_in_second_tweets = []\n",
        "for line in open(second_tweet_file, 'r'):\n",
        "    read_in_second_tweets.append(json.loads(line))\n",
        "\n",
        "    \n",
        "\n",
        "\n",
        "# Creating dataframe of katy perry \n",
        "print(\"**********************************************\")\n",
        "print(\"___________ Creating Dataframe of Jimmy Fallon  ______________\")\n",
        "print(\" *********************************************\")\n",
        "\n",
        "\n",
        "\n",
        "jimmy_fallon_df =  pd.DataFrame(read_in_first_tweets)\n",
        "\n",
        "# jimmy_tweet_per = [percent for percent]\n",
        "# if 'tweet_%_on_hour' in combined_df.columns:\n",
        "#   combined_df['tweet_%_on_hour'] = jimmy_tweet_per\n",
        "# else:  \n",
        "#   combined_df.insert(1, 'tweet_%_on_hour' , jimmy_tweet_per)\n",
        "  \n",
        "  \n",
        "\n",
        "jimmy_fallon_df.head()\n",
        "\n",
        "\n",
        "# Creating dataframe of barack obama\n",
        "print(\"**********************************************\")\n",
        "print(\"___________ Creating Dataframe of Brack Obama  ______________\")\n",
        "print(\" *********************************************\")\n",
        "barack_obama_df = pd.DataFrame(read_in_second_tweets)\n",
        "barack_obama_df.head()\n",
        "\n",
        "\n",
        "# Creating dataframe of barack obama\n",
        "print(\"**********************************************\")\n",
        "print(\"___________ Combined Dataframe of tweets  ______________\")\n",
        "print(\" *********************************************\")\n",
        "\n",
        "\n",
        "combined_df = pd.concat([jimmy_fallon_df , barack_obama_df] ,sort='False')\n",
        "\n",
        "\n",
        "print(\"jimmy fallon tweet df count\" , len( jimmy_fallon_df.index))\n",
        "\n",
        "print(\"barack obama tweet df count\" , len(barack_obama_df.index))\n",
        "\n",
        "print(\"the combined tweet count \" , len(combined_df.index))\n",
        "\n",
        "\n"
      ],
      "execution_count": 0,
      "outputs": [
        {
          "output_type": "stream",
          "text": [
            "**********************************************\n",
            "___________ Creating Dataframe of Jimmy Fallon  ______________\n",
            " *********************************************\n",
            "**********************************************\n",
            "___________ Creating Dataframe of Brack Obama  ______________\n",
            " *********************************************\n",
            "**********************************************\n",
            "___________ Combined Dataframe of tweets  ______________\n",
            " *********************************************\n",
            "jimmy fallon tweet df count 200\n",
            "barack obama tweet df count 200\n",
            "the combined tweet count  400\n"
          ],
          "name": "stdout"
        }
      ]
    },
    {
      "cell_type": "markdown",
      "metadata": {
        "id": "9LrveH_dfQ6A",
        "colab_type": "text"
      },
      "source": [
        "Lets add extra column information on combined dataframe."
      ]
    },
    {
      "cell_type": "code",
      "metadata": {
        "id": "RByuK-0Vg6aX",
        "colab_type": "code",
        "outputId": "6c4bdb46-2329-4bb7-b57b-a5341487e021",
        "colab": {
          "base_uri": "https://localhost:8080/",
          "height": 165
        }
      },
      "source": [
        "screen_name_list = [user['screen_name'] for user in combined_df['user'].values]\n",
        "name_list = [user['name'] for user in combined_df['user'].values]\n",
        "tweet_date = [date for date in combined_df['created_at'].values]\n",
        "\n",
        "tweets = [tweet for tweet in combined_df['text'].values]\n",
        "\n",
        "time = [date.split(\" \")[3] for date in combined_df['created_at'].values]\n",
        "\n",
        "hour = pd.to_numeric([item.split(\":\")[0] for item in time])\n",
        "\n",
        "hashtags =[entity['hashtags'] for entity in combined_df['entities']]\n",
        "urls_or_image =['Has pictures / links ' if entity['urls'] or  'media' in entity else 'No picture / link'  for entity in combined_df['entities']]\n",
        "\n",
        "\n",
        "\n",
        "\n",
        "\n",
        "\n",
        "print(tweet_date[:5])\n",
        "\n",
        "print(hour[:5])\n",
        "print(urls_or_image[:5])\n",
        "\n",
        "print(time[:5])\n",
        "\n",
        "print(screen_name_list[:5])\n",
        "print(name_list[:5])\n",
        "\n",
        "print(name_list[-5:])\n",
        "\n",
        "# Lets remove text and create new column tweet :) \n",
        "\n",
        "\n",
        "combined_df.drop(columns=['text'])\n",
        "\n",
        "\n",
        "#Lets create new column on dataframe for easy visualization.\n",
        "\n",
        "if 'person_name' in combined_df.columns:\n",
        "  combined_df['person_name'] = name_list \n",
        "  \n",
        "else:\n",
        "  combined_df.insert(0, 'person_name', name_list)\n",
        "  \n",
        "if 'screen_name' in combined_df.columns:\n",
        "  combined_df['screen_name'] = screen_name_list\n",
        "else:  \n",
        "  combined_df.insert(1, 'screen_name' , screen_name_list)\n",
        "  \n",
        "\n",
        "\n",
        "if 'tweet' in combined_df.columns:\n",
        "  combined_df['tweet'] = tweets\n",
        "  \n",
        "else : \n",
        "  combined_df.insert(2 , 'tweet' , tweets)\n",
        "  \n",
        "  \n",
        "if 'time_hour_of_day' in combined_df.columns:\n",
        "  combined_df['time_hour_of_day'] = hour \n",
        "  \n",
        "else:\n",
        "  combined_df.insert(3, 'time_hour_of_day' , hour)\n",
        "  \n",
        "if 'hash_tags' in combined_df.columns:\n",
        "  combined_df['hash_tags'] = hashtags\n",
        "  \n",
        "else:\n",
        "  combined_df.insert(4, 'hash_tags' , hashtags)\n",
        "  \n",
        "if 'media_info' in combined_df.columns:\n",
        "  combined_df['media_info'] = urls_or_image \n",
        "  \n",
        "else:\n",
        "  combined_df.insert(5, 'media_info' , urls_or_image )\n",
        "  \n",
        "\n",
        "\n",
        "  \n",
        "\n",
        "\n",
        "\n",
        "\n"
      ],
      "execution_count": 0,
      "outputs": [
        {
          "output_type": "stream",
          "text": [
            "['Thu Oct 24 19:36:29 +0000 2019', 'Thu Oct 24 14:09:09 +0000 2019', 'Thu Oct 24 13:17:24 +0000 2019', 'Wed Oct 23 20:13:29 +0000 2019', 'Wed Oct 23 19:35:21 +0000 2019']\n",
            "[19 14 13 20 19]\n",
            "['Has pictures / links ', 'Has pictures / links ', 'Has pictures / links ', 'No picture / link', 'Has pictures / links ']\n",
            "['19:36:29', '14:09:09', '13:17:24', '20:13:29', '19:35:21']\n",
            "['jimmyfallon', 'jimmyfallon', 'jimmyfallon', 'jimmyfallon', 'jimmyfallon']\n",
            "['jimmy fallon', 'jimmy fallon', 'jimmy fallon', 'jimmy fallon', 'jimmy fallon']\n",
            "['Barack Obama', 'Barack Obama', 'Barack Obama', 'Barack Obama', 'Barack Obama']\n"
          ],
          "name": "stdout"
        }
      ]
    },
    {
      "cell_type": "markdown",
      "metadata": {
        "id": "dIVODXV0VxnS",
        "colab_type": "text"
      },
      "source": [
        "Taking only useful column and creating new dataframe from combined dataframe"
      ]
    },
    {
      "cell_type": "code",
      "metadata": {
        "id": "W681iaW0V6gQ",
        "colab_type": "code",
        "colab": {}
      },
      "source": [
        "import numpy as np\n",
        "\n",
        "refined_df = combined_df[['person_name','screen_name' , 'tweet' , 'time_hour_of_day' , 'hash_tags' , 'media_info']]\n",
        "\n",
        "refined_df = refined_df.sort_values(['person_name', 'time_hour_of_day'], ascending=[False, True])\n",
        "\n",
        "# count_df = refined_df.groupby(['screen_name', 'time_hour_of_day']).value_counts()\n",
        "# total_tweets= refined_df.groupby('screen_name').size().to_frame('total_tweets')\n",
        "\n",
        "abc= refined_df.groupby(['screen_name', 'time_hour_of_day']).size().to_frame('abc')\n",
        "refined_df['freq'] = refined_df.groupby(['screen_name','time_hour_of_day'])['screen_name'].transform('count')\n",
        "refined_df['media_tweet_freq'] = refined_df.groupby(['screen_name','media_info'])['screen_name'].transform('count')\n",
        "refined_df['total_tweet_by_user'] = refined_df.groupby('screen_name')['screen_name'].transform('count')\n",
        "# df['freq'] = df.groupby('a')['a'].transform('count')\n",
        "# abc.type\n",
        "\n",
        "refined_df['percentage']= (refined_df['freq']/ refined_df['total_tweet_by_user']) * 100\n"
      ],
      "execution_count": 0,
      "outputs": []
    },
    {
      "cell_type": "code",
      "metadata": {
        "id": "XzaGKsLN_QSt",
        "colab_type": "code",
        "outputId": "4ca8382a-c140-4be5-f505-232e6393c560",
        "colab": {
          "base_uri": "https://localhost:8080/",
          "height": 495
        }
      },
      "source": [
        "refined_df.head()"
      ],
      "execution_count": 0,
      "outputs": [
        {
          "output_type": "execute_result",
          "data": {
            "text/html": [
              "<div>\n",
              "<style scoped>\n",
              "    .dataframe tbody tr th:only-of-type {\n",
              "        vertical-align: middle;\n",
              "    }\n",
              "\n",
              "    .dataframe tbody tr th {\n",
              "        vertical-align: top;\n",
              "    }\n",
              "\n",
              "    .dataframe thead th {\n",
              "        text-align: right;\n",
              "    }\n",
              "</style>\n",
              "<table border=\"1\" class=\"dataframe\">\n",
              "  <thead>\n",
              "    <tr style=\"text-align: right;\">\n",
              "      <th></th>\n",
              "      <th>person_name</th>\n",
              "      <th>screen_name</th>\n",
              "      <th>tweet</th>\n",
              "      <th>time_hour_of_day</th>\n",
              "      <th>hash_tags</th>\n",
              "      <th>media_info</th>\n",
              "      <th>freq</th>\n",
              "      <th>media_tweet_freq</th>\n",
              "      <th>total_tweet_by_user</th>\n",
              "      <th>percentage</th>\n",
              "    </tr>\n",
              "  </thead>\n",
              "  <tbody>\n",
              "    <tr>\n",
              "      <th>25</th>\n",
              "      <td>jimmy fallon</td>\n",
              "      <td>jimmyfallon</td>\n",
              "      <td>RT @mommyshorts: Congrats to @jimmyfallon on “...</td>\n",
              "      <td>0</td>\n",
              "      <td>[]</td>\n",
              "      <td>No picture / link</td>\n",
              "      <td>6</td>\n",
              "      <td>82</td>\n",
              "      <td>200</td>\n",
              "      <td>3.0</td>\n",
              "    </tr>\n",
              "    <tr>\n",
              "      <th>40</th>\n",
              "      <td>jimmy fallon</td>\n",
              "      <td>jimmyfallon</td>\n",
              "      <td>RT @FalpalsChoice: .@jimmyfallon is going to b...</td>\n",
              "      <td>0</td>\n",
              "      <td>[{'indices': [51, 56], 'text': 'WWHL'}]</td>\n",
              "      <td>No picture / link</td>\n",
              "      <td>6</td>\n",
              "      <td>82</td>\n",
              "      <td>200</td>\n",
              "      <td>3.0</td>\n",
              "    </tr>\n",
              "    <tr>\n",
              "      <th>71</th>\n",
              "      <td>jimmy fallon</td>\n",
              "      <td>jimmyfallon</td>\n",
              "      <td>We've got another LIVE show tonight with @just...</td>\n",
              "      <td>0</td>\n",
              "      <td>[{'indices': [75, 84], 'text': 'ThisIsUs'}]</td>\n",
              "      <td>Has pictures / links</td>\n",
              "      <td>6</td>\n",
              "      <td>118</td>\n",
              "      <td>200</td>\n",
              "      <td>3.0</td>\n",
              "    </tr>\n",
              "    <tr>\n",
              "      <th>76</th>\n",
              "      <td>jimmy fallon</td>\n",
              "      <td>jimmyfallon</td>\n",
              "      <td>LIVE show tonight with @gwenstefani, @BenSPLAT...</td>\n",
              "      <td>0</td>\n",
              "      <td>[{'indices': [126, 137], 'text': 'FallonLIVE'}]</td>\n",
              "      <td>No picture / link</td>\n",
              "      <td>6</td>\n",
              "      <td>82</td>\n",
              "      <td>200</td>\n",
              "      <td>3.0</td>\n",
              "    </tr>\n",
              "    <tr>\n",
              "      <th>77</th>\n",
              "      <td>jimmy fallon</td>\n",
              "      <td>jimmyfallon</td>\n",
              "      <td>RT @zacbrownband: Tonight’s gonna be a fun one...</td>\n",
              "      <td>0</td>\n",
              "      <td>[{'indices': [107, 114], 'text': 'TheOwl'}]</td>\n",
              "      <td>No picture / link</td>\n",
              "      <td>6</td>\n",
              "      <td>82</td>\n",
              "      <td>200</td>\n",
              "      <td>3.0</td>\n",
              "    </tr>\n",
              "  </tbody>\n",
              "</table>\n",
              "</div>"
            ],
            "text/plain": [
              "     person_name  screen_name  ... total_tweet_by_user  percentage\n",
              "25  jimmy fallon  jimmyfallon  ...                 200         3.0\n",
              "40  jimmy fallon  jimmyfallon  ...                 200         3.0\n",
              "71  jimmy fallon  jimmyfallon  ...                 200         3.0\n",
              "76  jimmy fallon  jimmyfallon  ...                 200         3.0\n",
              "77  jimmy fallon  jimmyfallon  ...                 200         3.0\n",
              "\n",
              "[5 rows x 10 columns]"
            ]
          },
          "metadata": {
            "tags": []
          },
          "execution_count": 7
        }
      ]
    },
    {
      "cell_type": "code",
      "metadata": {
        "id": "euFwsIXCFJFy",
        "colab_type": "code",
        "outputId": "0c7e6014-8cce-476e-e005-015a532a7077",
        "colab": {
          "base_uri": "https://localhost:8080/",
          "height": 425
        }
      },
      "source": [
        "refined_df.tail()"
      ],
      "execution_count": 0,
      "outputs": [
        {
          "output_type": "execute_result",
          "data": {
            "text/html": [
              "<div>\n",
              "<style scoped>\n",
              "    .dataframe tbody tr th:only-of-type {\n",
              "        vertical-align: middle;\n",
              "    }\n",
              "\n",
              "    .dataframe tbody tr th {\n",
              "        vertical-align: top;\n",
              "    }\n",
              "\n",
              "    .dataframe thead th {\n",
              "        text-align: right;\n",
              "    }\n",
              "</style>\n",
              "<table border=\"1\" class=\"dataframe\">\n",
              "  <thead>\n",
              "    <tr style=\"text-align: right;\">\n",
              "      <th></th>\n",
              "      <th>person_name</th>\n",
              "      <th>screen_name</th>\n",
              "      <th>tweet</th>\n",
              "      <th>time_hour_of_day</th>\n",
              "      <th>hash_tags</th>\n",
              "      <th>media_info</th>\n",
              "      <th>freq</th>\n",
              "      <th>media_tweet_freq</th>\n",
              "      <th>total_tweet_by_user</th>\n",
              "      <th>percentage</th>\n",
              "    </tr>\n",
              "  </thead>\n",
              "  <tbody>\n",
              "    <tr>\n",
              "      <th>58</th>\n",
              "      <td>Barack Obama</td>\n",
              "      <td>BarackObama</td>\n",
              "      <td>RT @ObamaFoundation: Courage is contagious. Wa...</td>\n",
              "      <td>22</td>\n",
              "      <td>[]</td>\n",
              "      <td>No picture / link</td>\n",
              "      <td>4</td>\n",
              "      <td>25</td>\n",
              "      <td>200</td>\n",
              "      <td>2.0</td>\n",
              "    </tr>\n",
              "    <tr>\n",
              "      <th>140</th>\n",
              "      <td>Barack Obama</td>\n",
              "      <td>BarackObama</td>\n",
              "      <td>Happy Hanukkah! Over these eight nights, we dr...</td>\n",
              "      <td>22</td>\n",
              "      <td>[]</td>\n",
              "      <td>Has pictures / links</td>\n",
              "      <td>4</td>\n",
              "      <td>175</td>\n",
              "      <td>200</td>\n",
              "      <td>2.0</td>\n",
              "    </tr>\n",
              "    <tr>\n",
              "      <th>65</th>\n",
              "      <td>Barack Obama</td>\n",
              "      <td>BarackObama</td>\n",
              "      <td>RT @ObamaFoundation: Congratulations on the in...</td>\n",
              "      <td>23</td>\n",
              "      <td>[]</td>\n",
              "      <td>No picture / link</td>\n",
              "      <td>3</td>\n",
              "      <td>25</td>\n",
              "      <td>200</td>\n",
              "      <td>1.5</td>\n",
              "    </tr>\n",
              "    <tr>\n",
              "      <th>84</th>\n",
              "      <td>Barack Obama</td>\n",
              "      <td>BarackObama</td>\n",
              "      <td>Another good story worth sharing: From one \"ki...</td>\n",
              "      <td>23</td>\n",
              "      <td>[]</td>\n",
              "      <td>Has pictures / links</td>\n",
              "      <td>3</td>\n",
              "      <td>175</td>\n",
              "      <td>200</td>\n",
              "      <td>1.5</td>\n",
              "    </tr>\n",
              "    <tr>\n",
              "      <th>145</th>\n",
              "      <td>Barack Obama</td>\n",
              "      <td>BarackObama</td>\n",
              "      <td>When someone shares their story, we see the wo...</td>\n",
              "      <td>23</td>\n",
              "      <td>[]</td>\n",
              "      <td>Has pictures / links</td>\n",
              "      <td>3</td>\n",
              "      <td>175</td>\n",
              "      <td>200</td>\n",
              "      <td>1.5</td>\n",
              "    </tr>\n",
              "  </tbody>\n",
              "</table>\n",
              "</div>"
            ],
            "text/plain": [
              "      person_name  screen_name  ... total_tweet_by_user  percentage\n",
              "58   Barack Obama  BarackObama  ...                 200         2.0\n",
              "140  Barack Obama  BarackObama  ...                 200         2.0\n",
              "65   Barack Obama  BarackObama  ...                 200         1.5\n",
              "84   Barack Obama  BarackObama  ...                 200         1.5\n",
              "145  Barack Obama  BarackObama  ...                 200         1.5\n",
              "\n",
              "[5 rows x 10 columns]"
            ]
          },
          "metadata": {
            "tags": []
          },
          "execution_count": 8
        }
      ]
    },
    {
      "cell_type": "markdown",
      "metadata": {
        "id": "0QTA3tqnA9OR",
        "colab_type": "text"
      },
      "source": [
        "## Analyzing and Visualizing the obtained data"
      ]
    },
    {
      "cell_type": "markdown",
      "metadata": {
        "id": "VFLMQeSQBIW3",
        "colab_type": "text"
      },
      "source": [
        "### Posting times of user in 24 hr comparision chart"
      ]
    },
    {
      "cell_type": "code",
      "metadata": {
        "id": "cRsq_yHixm12",
        "colab_type": "code",
        "outputId": "a9a4d2e4-08c3-4b84-e09d-1fb4a1bd61bd",
        "colab": {
          "base_uri": "https://localhost:8080/",
          "height": 653
        }
      },
      "source": [
        "# more_refine_df = refined_df.groupby(['time_hour_of_day']);\n",
        "visual_df = refined_df.pivot_table(index='time_hour_of_day', columns='person_name', values='percentage')\n",
        "# visual_df = refined_df.groupby('time_hour_of_day');\n",
        "# visual_df.plot()\n",
        "ax = visual_df.plot(title='Hourly % Tweet ratio between Barack Obama && Jimmy Fallon' , figsize=(10,10) ,fontsize = 18 )\n",
        "\n",
        "ax.title.set_size(20)\n",
        "ax.legend(title='Twitter Users name ')\n",
        "ax.set(xlabel=' Hour of the day ', ylabel='% ratio of tweet made ')\n",
        "\n"
      ],
      "execution_count": 0,
      "outputs": [
        {
          "output_type": "execute_result",
          "data": {
            "text/plain": [
              "[Text(0, 0.5, '% ratio of tweet made '), Text(0.5, 0, ' Hour of the day ')]"
            ]
          },
          "metadata": {
            "tags": []
          },
          "execution_count": 9
        },
        {
          "output_type": "display_data",
          "data": {
            "image/png": "[encoded data removed]",
            "text/plain": [
              "<Figure size 720x720 with 1 Axes>"
            ]
          },
          "metadata": {
            "tags": []
          }
        }
      ]
    },
    {
      "cell_type": "markdown",
      "metadata": {
        "id": "0LybgiQF72_c",
        "colab_type": "text"
      },
      "source": [
        "### Comparision of tweets with image/url with both user"
      ]
    },
    {
      "cell_type": "code",
      "metadata": {
        "id": "VQime0GtH6u_",
        "colab_type": "code",
        "outputId": "6ecf2867-9aa5-4ce1-884f-592767270f7e",
        "colab": {
          "base_uri": "https://localhost:8080/",
          "height": 361
        }
      },
      "source": [
        "plot = refined_df.groupby([\"person_name\",\"media_info\"])['media_tweet_freq'].count().unstack().plot(kind='bar' )\n",
        "\n",
        "plot.set_xlabel(\"Tweet Users ( Full name)\")\n",
        "\n",
        "plot.legend(title = \"Tweet Media Type\")\n",
        "\n",
        "plot.set_ylabel(\"Proportion of tweets\")"
      ],
      "execution_count": 0,
      "outputs": [
        {
          "output_type": "execute_result",
          "data": {
            "text/plain": [
              "Text(0, 0.5, 'Proportion of tweets')"
            ]
          },
          "metadata": {
            "tags": []
          },
          "execution_count": 10
        },
        {
          "output_type": "display_data",
          "data": {
            "image/png": "[encoded data removed]",
            "text/plain": [
              "<Figure size 432x288 with 1 Axes>"
            ]
          },
          "metadata": {
            "tags": []
          }
        }
      ]
    },
    {
      "cell_type": "markdown",
      "metadata": {
        "id": "M9pQtWd4twUE",
        "colab_type": "text"
      },
      "source": [
        "### Histogram of Hash Tags use"
      ]
    },
    {
      "cell_type": "markdown",
      "metadata": {
        "id": "q8QIC_nqqhJI",
        "colab_type": "text"
      },
      "source": [
        "Histogram plot was built from refering the following tutorial blog post \n",
        "\n",
        "The url refered for the code can be found on following url [Create Histogram From Pandas Dataframe](https://wellsr.com/python/python-create-histogram-from-pandas-dataframe/): \n",
        "\n"
      ]
    },
    {
      "cell_type": "markdown",
      "metadata": {
        "id": "GDjktHHBJpS7",
        "colab_type": "text"
      },
      "source": [
        "The real help with dataframe split and categorize histogram by person name spliting histogram to two subplot was found in stackoverflow thread [Plotting histograms from grouped data in a pandas DataFrame](https://stackoverflow.com/questions/19584029/plotting-histograms-from-grouped-data-in-a-pandas-dataframe)"
      ]
    },
    {
      "cell_type": "code",
      "metadata": {
        "id": "sPp7gHmYtlNG",
        "colab_type": "code",
        "outputId": "dc418280-1e5c-45f0-f2f8-d492cbd913a4",
        "colab": {
          "base_uri": "https://localhost:8080/",
          "height": 372
        }
      },
      "source": [
        "\n",
        "import pylab as plt\n",
        "\n",
        "hashtag_count = [len(hashs) for hashs in refined_df['hash_tags'].values]\n",
        "\n",
        "refined_df['hash_count'] = hashtag_count\n",
        "\n",
        "\n",
        "    \n",
        "plot = refined_df['hash_count'].hist(by=refined_df['person_name'] )\n",
        "\n",
        "plot[0].set_xlabel('Hash tag count for obama')\n",
        "plot[1].set_xlabel('Hash tag count for fallon')\n",
        "\n",
        "\n",
        "plot[0].set_ylabel('Frequency (fallon)')\n",
        "plot[1].set_ylabel('Frequency (obama)')\n",
        "\n",
        "\n",
        "plt.suptitle(\"Comparison of Hashtag frequencey used by two user\" , size=16, y=1.12)\n",
        "\n"
      ],
      "execution_count": 0,
      "outputs": [
        {
          "output_type": "execute_result",
          "data": {
            "text/plain": [
              "Text(0.5, 1.12, 'Comparison of Hashtag frequencey used by two user')"
            ]
          },
          "metadata": {
            "tags": []
          },
          "execution_count": 11
        },
        {
          "output_type": "display_data",
          "data": {
            "image/png": "[encoded data removed]",
            "text/plain": [
              "<Figure size 432x288 with 2 Axes>"
            ]
          },
          "metadata": {
            "tags": []
          }
        }
      ]
    },
    {
      "cell_type": "markdown",
      "metadata": {
        "id": "i5DFcSKpPHfC",
        "colab_type": "text"
      },
      "source": [
        "### Log odd ratio"
      ]
    },
    {
      "cell_type": "markdown",
      "metadata": {
        "id": "5t5887rwlORG",
        "colab_type": "text"
      },
      "source": [
        "The Log Ratio statistic is an “effect-size” statistic, not a significance statistic: it does represent how big the difference between two corpora are for a particular keyword. It's also a very transparent statistic in that it is easy to understand how it is calculated and why it represents the size of the difference.\n",
        "\n",
        "Full description can be found in [Log Ratio – an informal introduction](http://cass.lancs.ac.uk/log-ratio-an-informal-introduction/)"
      ]
    },
    {
      "cell_type": "markdown",
      "metadata": {
        "id": "hJFEtp0Db-Gx",
        "colab_type": "text"
      },
      "source": [
        "#### Lets remove url && most commonly used article from the tweet"
      ]
    },
    {
      "cell_type": "code",
      "metadata": {
        "id": "QFYafZtgPGot",
        "colab_type": "code",
        "colab": {}
      },
      "source": [
        "import re\n",
        "\n",
        "import itertools\n",
        "import collections\n",
        "\n",
        "def remove_tweet_url(txt):\n",
        "    \"\"\"lets remove url or media link present on text file\n",
        "    \"\"\"\n",
        "\n",
        "    return \" \".join(re.sub(\"([^0-9A-Za-z \\t])|(\\w+:\\/\\/\\S+)\", \"\", txt).split())"
      ],
      "execution_count": 0,
      "outputs": []
    },
    {
      "cell_type": "code",
      "metadata": {
        "id": "OoKTcLkSPXxC",
        "colab_type": "code",
        "colab": {}
      },
      "source": [
        "no_url_tweets_for_jimmy = [remove_tweet_url(tweet) for tweet in jimmy_fallon_df['text'].values]\n",
        "\n",
        "no_url_tweets_for_barack = [remove_tweet_url(tweet) for tweet in barack_obama_df['text'].values]\n",
        "\n",
        "# Avoding upper case letter and making all letter to lower case\n",
        "\n",
        "\n",
        "jimmy_tweet_word_list = [tweet.lower().split() for tweet in no_url_tweets_for_jimmy]\n",
        "\n",
        "\n",
        "barack_tweet_word_list = [tweet.lower().split() for tweet in no_url_tweets_for_barack]\n",
        "\n",
        "\n",
        "\n"
      ],
      "execution_count": 0,
      "outputs": []
    },
    {
      "cell_type": "markdown",
      "metadata": {
        "id": "sKvpfpmRbvDu",
        "colab_type": "text"
      },
      "source": [
        "Installing the nltk packages"
      ]
    },
    {
      "cell_type": "code",
      "metadata": {
        "id": "t0b2gGH2btWe",
        "colab_type": "code",
        "outputId": "9b2472d0-d38a-4dd9-d0fc-716c922db9f8",
        "colab": {
          "base_uri": "https://localhost:8080/",
          "height": 872
        }
      },
      "source": [
        "import nltk\n",
        "nltk.download(\"popular\")"
      ],
      "execution_count": 0,
      "outputs": [
        {
          "output_type": "stream",
          "text": [
            "[nltk_data] Downloading collection 'popular'\n",
            "[nltk_data]    | \n",
            "[nltk_data]    | Downloading package cmudict to /root/nltk_data...\n",
            "[nltk_data]    |   Unzipping corpora/cmudict.zip.\n",
            "[nltk_data]    | Downloading package gazetteers to /root/nltk_data...\n",
            "[nltk_data]    |   Unzipping corpora/gazetteers.zip.\n",
            "[nltk_data]    | Downloading package genesis to /root/nltk_data...\n",
            "[nltk_data]    |   Unzipping corpora/genesis.zip.\n",
            "[nltk_data]    | Downloading package gutenberg to /root/nltk_data...\n",
            "[nltk_data]    |   Unzipping corpora/gutenberg.zip.\n",
            "[nltk_data]    | Downloading package inaugural to /root/nltk_data...\n",
            "[nltk_data]    |   Unzipping corpora/inaugural.zip.\n",
            "[nltk_data]    | Downloading package movie_reviews to\n",
            "[nltk_data]    |     /root/nltk_data...\n",
            "[nltk_data]    |   Unzipping corpora/movie_reviews.zip.\n",
            "[nltk_data]    | Downloading package names to /root/nltk_data...\n",
            "[nltk_data]    |   Unzipping corpora/names.zip.\n",
            "[nltk_data]    | Downloading package shakespeare to /root/nltk_data...\n",
            "[nltk_data]    |   Unzipping corpora/shakespeare.zip.\n",
            "[nltk_data]    | Downloading package stopwords to /root/nltk_data...\n",
            "[nltk_data]    |   Unzipping corpora/stopwords.zip.\n",
            "[nltk_data]    | Downloading package treebank to /root/nltk_data...\n",
            "[nltk_data]    |   Unzipping corpora/treebank.zip.\n",
            "[nltk_data]    | Downloading package twitter_samples to\n",
            "[nltk_data]    |     /root/nltk_data...\n",
            "[nltk_data]    |   Unzipping corpora/twitter_samples.zip.\n",
            "[nltk_data]    | Downloading package omw to /root/nltk_data...\n",
            "[nltk_data]    |   Unzipping corpora/omw.zip.\n",
            "[nltk_data]    | Downloading package wordnet to /root/nltk_data...\n",
            "[nltk_data]    |   Unzipping corpora/wordnet.zip.\n",
            "[nltk_data]    | Downloading package wordnet_ic to /root/nltk_data...\n",
            "[nltk_data]    |   Unzipping corpora/wordnet_ic.zip.\n",
            "[nltk_data]    | Downloading package words to /root/nltk_data...\n",
            "[nltk_data]    |   Unzipping corpora/words.zip.\n",
            "[nltk_data]    | Downloading package maxent_ne_chunker to\n",
            "[nltk_data]    |     /root/nltk_data...\n",
            "[nltk_data]    |   Unzipping chunkers/maxent_ne_chunker.zip.\n",
            "[nltk_data]    | Downloading package punkt to /root/nltk_data...\n",
            "[nltk_data]    |   Unzipping tokenizers/punkt.zip.\n",
            "[nltk_data]    | Downloading package snowball_data to\n",
            "[nltk_data]    |     /root/nltk_data...\n",
            "[nltk_data]    | Downloading package averaged_perceptron_tagger to\n",
            "[nltk_data]    |     /root/nltk_data...\n",
            "[nltk_data]    |   Unzipping taggers/averaged_perceptron_tagger.zip.\n",
            "[nltk_data]    | \n",
            "[nltk_data]  Done downloading collection popular\n"
          ],
          "name": "stdout"
        },
        {
          "output_type": "execute_result",
          "data": {
            "text/plain": [
              "True"
            ]
          },
          "metadata": {
            "tags": []
          },
          "execution_count": 14
        }
      ]
    },
    {
      "cell_type": "markdown",
      "metadata": {
        "id": "lYVbA37jbxiJ",
        "colab_type": "text"
      },
      "source": [
        "filtering the most common used english word such as a , the , an etc. It helps on removing bias and obvious commonly used word.\n",
        "\n",
        "Referred tutorial from : [Nltk tutorial blog](https://www.geeksforgeeks.org/removing-stop-words-nltk-python/)"
      ]
    },
    {
      "cell_type": "code",
      "metadata": {
        "id": "_rMdnHluek93",
        "colab_type": "code",
        "colab": {}
      },
      "source": [
        "from nltk.corpus import stopwords\n",
        "import matplotlib.pyplot as plt\n",
        "from itertools import cycle, islice,chain\n",
        "\n",
        "stop_words =set(stopwords.words('english'))\n",
        "filters_word_jimmy = [i for i in itertools.chain(*jimmy_tweet_word_list) if i not in stop_words]\n",
        "filters_word_barack = [i for i in itertools.chain(*barack_tweet_word_list) if i not in stop_words]"
      ],
      "execution_count": 0,
      "outputs": []
    },
    {
      "cell_type": "markdown",
      "metadata": {
        "id": "Imf81bNDmEYA",
        "colab_type": "text"
      },
      "source": [
        "#### Evaluating log odd ratio"
      ]
    },
    {
      "cell_type": "markdown",
      "metadata": {
        "id": "nQB0hDr_mmPW",
        "colab_type": "text"
      },
      "source": [
        "First , lets evaluate log odd ratio of all words just filtering url and commonly used article only\n",
        "\n",
        "More about simultaneous loop in python can be found on [Python | Iterate over multiple lists simultaneously](https://www.geeksforgeeks.org/python-iterate-multiple-lists-simultaneously/)\n",
        "\n",
        "\n",
        "Log Odd ratio formula can be found in \n",
        "\n",
        "[Text analysis of Trump's tweets](http://varianceexplained.org/r/trump-tweets/)"
      ]
    },
    {
      "cell_type": "code",
      "metadata": {
        "id": "PzcnqVUMlgC4",
        "colab_type": "code",
        "outputId": "d228228d-059f-4f16-f139-d42a8e1d4b5d",
        "colab": {
          "base_uri": "https://localhost:8080/",
          "height": 54
        }
      },
      "source": [
        "import pandas as pd\n",
        "obama_log_array =[]\n",
        "fallon_log_array = []\n",
        "for (fallon , obama) in zip(filters_word_jimmy,filters_word_barack):\n",
        "  fallon_log = ((filters_word_jimmy.count(fallon)+1)/(len(filters_word_jimmy) +1))/((filters_word_barack.count(fallon)+1)/(len(filters_word_barack) +1))\n",
        "  obama_log = ((filters_word_jimmy.count(obama)+1)/(len(filters_word_jimmy) +1))/((filters_word_barack.count(obama)+1)/(len(filters_word_barack) +1)) \n",
        "  \n",
        "  obama_dict = {'name': 'Barack Obama' , 'word' : fallon ,'log_ratio':fallon_log}\n",
        "  fallon_dict = {'name': 'jimmy fallon' , 'word' : obama ,'log_ratio':obama_log}\n",
        "  \n",
        "  obama_log_array.append(obama_dict)\n",
        "  \n",
        "  fallon_log_array.append(fallon_dict)\n",
        "  \n",
        "  \n",
        "word_log_obama = pd.DataFrame(obama_log_array)\n",
        "word_log_fallon = pd.DataFrame(fallon_log_array)\n",
        "\n",
        "\n",
        "obama_word_unique = word_log_obama.drop_duplicates(subset=['word' ,'log_ratio'], keep=False)\n",
        "\n",
        "fallon_word_unique = word_log_fallon.drop_duplicates(subset=['word' ,'log_ratio'], keep=False)\n",
        "\n",
        "\n",
        "print(\"shape of obama : \" , word_log_obama.shape , \"shape of fallon : \" , word_log_fallon.shape)\n",
        "\n",
        "print(\"shape of obama without duplication : \" , obama_word_unique.shape , \"shape of fallon  without duplication: \" , fallon_word_unique.shape)\n",
        "\n"
      ],
      "execution_count": 0,
      "outputs": [
        {
          "output_type": "stream",
          "text": [
            "shape of obama :  (1748, 3) shape of fallon :  (1748, 3)\n",
            "shape of obama without duplication :  (670, 3) shape of fallon  without duplication:  (746, 3)\n"
          ],
          "name": "stdout"
        }
      ]
    },
    {
      "cell_type": "code",
      "metadata": {
        "id": "CVD-FItx4Qms",
        "colab_type": "code",
        "outputId": "52135e1b-39ae-4655-9241-e536e888bb98",
        "colab": {
          "base_uri": "https://localhost:8080/",
          "height": 198
        }
      },
      "source": [
        "obama_word_unique.head()"
      ],
      "execution_count": 0,
      "outputs": [
        {
          "output_type": "execute_result",
          "data": {
            "text/html": [
              "<div>\n",
              "<style scoped>\n",
              "    .dataframe tbody tr th:only-of-type {\n",
              "        vertical-align: middle;\n",
              "    }\n",
              "\n",
              "    .dataframe tbody tr th {\n",
              "        vertical-align: top;\n",
              "    }\n",
              "\n",
              "    .dataframe thead th {\n",
              "        text-align: right;\n",
              "    }\n",
              "</style>\n",
              "<table border=\"1\" class=\"dataframe\">\n",
              "  <thead>\n",
              "    <tr style=\"text-align: right;\">\n",
              "      <th></th>\n",
              "      <th>name</th>\n",
              "      <th>word</th>\n",
              "      <th>log_ratio</th>\n",
              "    </tr>\n",
              "  </thead>\n",
              "  <tbody>\n",
              "    <tr>\n",
              "      <th>2</th>\n",
              "      <td>Barack Obama</td>\n",
              "      <td>try</td>\n",
              "      <td>2.512293</td>\n",
              "    </tr>\n",
              "    <tr>\n",
              "      <th>4</th>\n",
              "      <td>Barack Obama</td>\n",
              "      <td>bts</td>\n",
              "      <td>2.512293</td>\n",
              "    </tr>\n",
              "    <tr>\n",
              "      <th>7</th>\n",
              "      <td>Barack Obama</td>\n",
              "      <td>correction</td>\n",
              "      <td>2.512293</td>\n",
              "    </tr>\n",
              "    <tr>\n",
              "      <th>8</th>\n",
              "      <td>Barack Obama</td>\n",
              "      <td>army</td>\n",
              "      <td>2.512293</td>\n",
              "    </tr>\n",
              "    <tr>\n",
              "      <th>10</th>\n",
              "      <td>Barack Obama</td>\n",
              "      <td>mama</td>\n",
              "      <td>2.512293</td>\n",
              "    </tr>\n",
              "  </tbody>\n",
              "</table>\n",
              "</div>"
            ],
            "text/plain": [
              "            name        word  log_ratio\n",
              "2   Barack Obama         try   2.512293\n",
              "4   Barack Obama         bts   2.512293\n",
              "7   Barack Obama  correction   2.512293\n",
              "8   Barack Obama        army   2.512293\n",
              "10  Barack Obama        mama   2.512293"
            ]
          },
          "metadata": {
            "tags": []
          },
          "execution_count": 17
        }
      ]
    },
    {
      "cell_type": "code",
      "metadata": {
        "id": "5X-tHK9Y4S5u",
        "colab_type": "code",
        "outputId": "aad45d42-55b7-4425-e52d-c93828857c39",
        "colab": {
          "base_uri": "https://localhost:8080/",
          "height": 198
        }
      },
      "source": [
        "fallon_word_unique.head()"
      ],
      "execution_count": 0,
      "outputs": [
        {
          "output_type": "execute_result",
          "data": {
            "text/html": [
              "<div>\n",
              "<style scoped>\n",
              "    .dataframe tbody tr th:only-of-type {\n",
              "        vertical-align: middle;\n",
              "    }\n",
              "\n",
              "    .dataframe tbody tr th {\n",
              "        vertical-align: top;\n",
              "    }\n",
              "\n",
              "    .dataframe thead th {\n",
              "        text-align: right;\n",
              "    }\n",
              "</style>\n",
              "<table border=\"1\" class=\"dataframe\">\n",
              "  <thead>\n",
              "    <tr style=\"text-align: right;\">\n",
              "      <th></th>\n",
              "      <th>name</th>\n",
              "      <th>word</th>\n",
              "      <th>log_ratio</th>\n",
              "    </tr>\n",
              "  </thead>\n",
              "  <tbody>\n",
              "    <tr>\n",
              "      <th>0</th>\n",
              "      <td>jimmy fallon</td>\n",
              "      <td>samanthajpower</td>\n",
              "      <td>0.628073</td>\n",
              "    </tr>\n",
              "    <tr>\n",
              "      <th>1</th>\n",
              "      <td>jimmy fallon</td>\n",
              "      <td>pulitzer</td>\n",
              "      <td>0.628073</td>\n",
              "    </tr>\n",
              "    <tr>\n",
              "      <th>2</th>\n",
              "      <td>jimmy fallon</td>\n",
              "      <td>winner</td>\n",
              "      <td>0.628073</td>\n",
              "    </tr>\n",
              "    <tr>\n",
              "      <th>4</th>\n",
              "      <td>jimmy fallon</td>\n",
              "      <td>writer</td>\n",
              "      <td>0.628073</td>\n",
              "    </tr>\n",
              "    <tr>\n",
              "      <th>7</th>\n",
              "      <td>jimmy fallon</td>\n",
              "      <td>memoir</td>\n",
              "      <td>0.628073</td>\n",
              "    </tr>\n",
              "  </tbody>\n",
              "</table>\n",
              "</div>"
            ],
            "text/plain": [
              "           name            word  log_ratio\n",
              "0  jimmy fallon  samanthajpower   0.628073\n",
              "1  jimmy fallon        pulitzer   0.628073\n",
              "2  jimmy fallon          winner   0.628073\n",
              "4  jimmy fallon          writer   0.628073\n",
              "7  jimmy fallon          memoir   0.628073"
            ]
          },
          "metadata": {
            "tags": []
          },
          "execution_count": 18
        }
      ]
    },
    {
      "cell_type": "markdown",
      "metadata": {
        "id": "1hBQDocQ5Sdb",
        "colab_type": "text"
      },
      "source": [
        "Combining both log odd ratio and plotting graph"
      ]
    },
    {
      "cell_type": "code",
      "metadata": {
        "id": "-X5YHdLD5W4w",
        "colab_type": "code",
        "outputId": "c7c100de-a1ef-4b7e-eafc-532c13e31d69",
        "colab": {
          "base_uri": "https://localhost:8080/",
          "height": 35
        }
      },
      "source": [
        "import pandas as pd \n",
        "\n",
        "combined_df = pd.concat([fallon_word_unique, obama_word_unique])\n",
        "\n",
        "print(\"combined dfshape\" , combined_df.shape)"
      ],
      "execution_count": 0,
      "outputs": [
        {
          "output_type": "stream",
          "text": [
            "combined dfshape (1416, 3)\n"
          ],
          "name": "stdout"
        }
      ]
    },
    {
      "cell_type": "markdown",
      "metadata": {
        "id": "JG3rLDgzATuF",
        "colab_type": "text"
      },
      "source": [
        "Taking peek from combined dataframe"
      ]
    },
    {
      "cell_type": "code",
      "metadata": {
        "id": "Bp0aOydJAX1-",
        "colab_type": "code",
        "outputId": "c3d6b7df-e359-4709-d58b-d319fd9e1344",
        "colab": {
          "base_uri": "https://localhost:8080/",
          "height": 326
        }
      },
      "source": [
        "print(\"************** Looking top  data ***********\")\n",
        "print(\"____________________________________________\")\n",
        "print(combined_df.head())\n",
        "# combined_df.head()\n",
        "print(\"~~~~~~~~~~~~~~~~~~~~~~~~~~~~~~~~~~~~~~~~~~~~~~~\")\n",
        "print(\"************** Looking buttom  data ***********\")\n",
        "print('_________________________________________________')\n",
        "print(combined_df.tail())\n"
      ],
      "execution_count": 0,
      "outputs": [
        {
          "output_type": "stream",
          "text": [
            "************** Looking top  data ***********\n",
            "____________________________________________\n",
            "           name            word  log_ratio\n",
            "0  jimmy fallon  samanthajpower   0.628073\n",
            "1  jimmy fallon        pulitzer   0.628073\n",
            "2  jimmy fallon          winner   0.628073\n",
            "4  jimmy fallon          writer   0.628073\n",
            "7  jimmy fallon          memoir   0.628073\n",
            "~~~~~~~~~~~~~~~~~~~~~~~~~~~~~~~~~~~~~~~~~~~~~~~\n",
            "************** Looking buttom  data ***********\n",
            "_________________________________________________\n",
            "              name            word  log_ratio\n",
            "1739  Barack Obama          pacman   2.512293\n",
            "1742  Barack Obama      joelmchale   2.512293\n",
            "1743  Barack Obama       marcmaron   2.512293\n",
            "1744  Barack Obama  blakegriffin23   2.512293\n",
            "1746  Barack Obama       dustyslay   2.512293\n"
          ],
          "name": "stdout"
        }
      ]
    },
    {
      "cell_type": "markdown",
      "metadata": {
        "id": "s7f50uUcBSWK",
        "colab_type": "text"
      },
      "source": [
        "#### Visualizing log ratio of 20 words"
      ]
    },
    {
      "cell_type": "markdown",
      "metadata": {
        "id": "tDdX8Sh3KCav",
        "colab_type": "text"
      },
      "source": [
        "Here , top 5 and least 5 ratio is taken from both user to get general idea of distribution of log ratio."
      ]
    },
    {
      "cell_type": "code",
      "metadata": {
        "id": "HIZpDZKv6mFm",
        "colab_type": "code",
        "outputId": "c91fb538-da50-4c11-f895-d177c12e0d47",
        "colab": {
          "base_uri": "https://localhost:8080/",
          "height": 367
        }
      },
      "source": [
        "import matplotlib.pyplot as plt\n",
        "import pandas as pd\n",
        "\n",
        "\n",
        "fallon_sorted = fallon_word_unique.sort_values(by=['log_ratio'] , ascending=False)\n",
        "obama_sorted = obama_word_unique.sort_values(by=['log_ratio'] , ascending= False )\n",
        "\n",
        "\n",
        "top20_df = pd.concat([fallon_sorted.head(5) , fallon_sorted.tail(5) , obama_sorted.head(5) , obama_sorted.tail(5)])\n",
        "\n",
        "top20_df.shape\n",
        "\n",
        "top20_df.set_index('word')\n",
        "\n",
        "\n",
        "# gca stands for 'get current axis'\n",
        "ax = plt.gca()\n",
        "\n",
        "\n",
        "plot = top20_df.plot(kind='bar',x='word',color='orange',y=['log_ratio','name'], ax=ax)\n",
        "\n",
        "plot.set_xlabel(\"Sample 20 words taken with uniform bias\")\n",
        "\n",
        "\n",
        "plot.set_ylabel(\"The log score range\")\n",
        "\n",
        "plot.set_title(\"Log ratio visualization of the word used in tweet\")\n"
      ],
      "execution_count": 0,
      "outputs": [
        {
          "output_type": "execute_result",
          "data": {
            "text/plain": [
              "Text(0.5, 1.0, 'Log ratio visualization of the word used in tweet')"
            ]
          },
          "metadata": {
            "tags": []
          },
          "execution_count": 21
        },
        {
          "output_type": "display_data",
          "data": {
            "image/png": "[encoded data removed]",
            "text/plain": [
              "<Figure size 432x288 with 1 Axes>"
            ]
          },
          "metadata": {
            "tags": []
          }
        }
      ]
    },
    {
      "cell_type": "markdown",
      "metadata": {
        "id": "RJgh91KgTIBq",
        "colab_type": "text"
      },
      "source": [
        "#### TOP 20 most common used word for jimmy"
      ]
    },
    {
      "cell_type": "code",
      "metadata": {
        "id": "3vcXsBapTGib",
        "colab_type": "code",
        "outputId": "dce8229e-78a7-409b-c0fe-6ce17908d5d3",
        "colab": {
          "base_uri": "https://localhost:8080/",
          "height": 381
        }
      },
      "source": [
        "# all_words_jimmy = list(itertools.chain(*jimmy_tweet_word_list)) \n",
        "# Create counter\n",
        "counts_jimmy = collections.Counter(filters_word_jimmy)\n",
        "\n",
        "top20_word = counts_jimmy.most_common(20)\n",
        "\n",
        "\n",
        "top20_word"
      ],
      "execution_count": 0,
      "outputs": [
        {
          "output_type": "execute_result",
          "data": {
            "text/plain": [
              "[('fallontonight', 66),\n",
              " ('tonight', 47),\n",
              " ('rt', 44),\n",
              " ('show', 27),\n",
              " ('jimmyfallon', 21),\n",
              " ('thank', 20),\n",
              " ('fun', 17),\n",
              " ('plus', 17),\n",
              " ('see', 15),\n",
              " ('love', 14),\n",
              " ('new', 12),\n",
              " ('baby', 12),\n",
              " ('music', 12),\n",
              " ('amp', 11),\n",
              " ('performance', 11),\n",
              " ('thanks', 10),\n",
              " ('fallonlive', 10),\n",
              " ('happy', 9),\n",
              " ('im', 9),\n",
              " ('hot', 8)]"
            ]
          },
          "metadata": {
            "tags": []
          },
          "execution_count": 22
        }
      ]
    },
    {
      "cell_type": "markdown",
      "metadata": {
        "id": "hTe3Vl1oj_Fq",
        "colab_type": "text"
      },
      "source": [
        "#### Bar chart of most common used word by jimmy fallon"
      ]
    },
    {
      "cell_type": "markdown",
      "metadata": {
        "id": "On6GXUbt9cyN",
        "colab_type": "text"
      },
      "source": [
        "Extraction of most common used words and bar graph was inspired from the following blog post . [Very simple Python script for extracting most common words from a story](https://towardsdatascience.com/very-simple-python-script-for-extracting-most-common-words-from-a-story-1e3570d0b9d0)\n",
        "\n",
        "\n",
        "How to use custom color on dataframe plot can be found on following stackoverflow thread [Panda Bar graph custom color](https://stackoverflow.com/questions/11927715/how-to-give-a-pandas-matplotlib-bar-graph-custom-colors)\n"
      ]
    },
    {
      "cell_type": "code",
      "metadata": {
        "id": "C29WjF6uFHK0",
        "colab_type": "code",
        "outputId": "f4dac9d3-7975-4037-b1dc-240ee4cef34a",
        "colab": {
          "base_uri": "https://localhost:8080/",
          "height": 639
        }
      },
      "source": [
        "\n",
        "word_df = pd.DataFrame({'name':[val[0] for val in top20_word] ,'count':[val[1] for val in top20_word]})\n",
        "\n",
        "my_colors = list(islice(cycle(['b', 'r', 'g', 'y', 'k']), None, len(word_df)))\n",
        "\n",
        "word_df = word_df.sort_values('count', 0)\n",
        "\n",
        "plot = word_df.plot(x='name',y='count' , alpha = 0.4 , color=my_colors , kind='barh', figsize=(8, 10), zorder=2, width=0.85)\n",
        "plot.set_ylabel('Most commonly used words')\n",
        "plot.set_xlabel(\"Count of word used\")\n",
        "plot.set_title(\"Visualizing the most popular used word\")\n",
        "\n"
      ],
      "execution_count": 0,
      "outputs": [
        {
          "output_type": "execute_result",
          "data": {
            "text/plain": [
              "Text(0.5, 1.0, 'Visualizing the most popular used word')"
            ]
          },
          "metadata": {
            "tags": []
          },
          "execution_count": 23
        },
        {
          "output_type": "display_data",
          "data": {
            "image/png": "[encoded data removed]",
            "text/plain": [
              "<Figure size 576x720 with 1 Axes>"
            ]
          },
          "metadata": {
            "tags": []
          }
        }
      ]
    },
    {
      "cell_type": "markdown",
      "metadata": {
        "id": "Kz3LNUXjj5gK",
        "colab_type": "text"
      },
      "source": [
        "#### Word Cloud of Jimmy Fallon"
      ]
    },
    {
      "cell_type": "markdown",
      "metadata": {
        "id": "PU3aB0yqPL3O",
        "colab_type": "text"
      },
      "source": [
        "Lets generate the word cloud for proper visualization most commonly used 20 words\n",
        "\n",
        "Tutorial refered from the blog Generating WordClouds in Python](https://www.datacamp.com/community/tutorials/wordcloud-python)"
      ]
    },
    {
      "cell_type": "code",
      "metadata": {
        "id": "50UiO_YSPQDM",
        "colab_type": "code",
        "outputId": "ebc83882-df31-4b8d-966f-7831419ff0de",
        "colab": {
          "base_uri": "https://localhost:8080/",
          "height": 254
        }
      },
      "source": [
        "from PIL import Image\n",
        "from wordcloud import WordCloud , ImageColorGenerator\n",
        "\n",
        "import matplotlib.pyplot as plt\n",
        "\n",
        "filtered_text = ' '.join(filters_word_jimmy)\n",
        "\n",
        "jimmy_wordcloud = WordCloud(max_font_size=80, max_words=20, background_color=\"white\").generate(filtered_text)\n",
        "plt.figure(figsize=(8,8))\n",
        "plt.imshow(jimmy_wordcloud, interpolation=\"bilinear\")\n",
        "plt.axis(\"off\")\n",
        "plt.show()\n",
        "\n"
      ],
      "execution_count": 0,
      "outputs": [
        {
          "output_type": "display_data",
          "data": {
            "image/png": "[encoded data removed]",
            "text/plain": [
              "<Figure size 576x576 with 1 Axes>"
            ]
          },
          "metadata": {
            "tags": []
          }
        }
      ]
    },
    {
      "cell_type": "markdown",
      "metadata": {
        "colab_type": "text",
        "id": "Tg2bWEHPCIt0"
      },
      "source": [
        "#### TOP 20 most common used word for Barack"
      ]
    },
    {
      "cell_type": "code",
      "metadata": {
        "colab_type": "code",
        "outputId": "2d76feb1-41bd-40bc-dfcd-18bf1a45a9f2",
        "id": "a1SqaQS6CIt3",
        "colab": {
          "base_uri": "https://localhost:8080/",
          "height": 381
        }
      },
      "source": [
        "# Create counter\n",
        "counts_barack = collections.Counter(filters_word_barack)\n",
        "\n",
        "top20_word = counts_barack.most_common(20)\n",
        "\n",
        "\n",
        "top20_word"
      ],
      "execution_count": 0,
      "outputs": [
        {
          "output_type": "execute_result",
          "data": {
            "text/plain": [
              "[('im', 24),\n",
              " ('us', 23),\n",
              " ('people', 22),\n",
              " ('young', 20),\n",
              " ('obamafoundation', 19),\n",
              " ('rt', 19),\n",
              " ('make', 19),\n",
              " ('leaders', 17),\n",
              " ('day', 17),\n",
              " ('today', 16),\n",
              " ('happy', 16),\n",
              " ('great', 15),\n",
              " ('one', 15),\n",
              " ('michelleobama', 13),\n",
              " ('like', 13),\n",
              " ('proud', 12),\n",
              " ('years', 12),\n",
              " ('always', 11),\n",
              " ('new', 11),\n",
              " ('world', 11)]"
            ]
          },
          "metadata": {
            "tags": []
          },
          "execution_count": 25
        }
      ]
    },
    {
      "cell_type": "markdown",
      "metadata": {
        "id": "7XUA6uuckPmQ",
        "colab_type": "text"
      },
      "source": [
        "#### Bar chart of top 20 word frequency by obama"
      ]
    },
    {
      "cell_type": "markdown",
      "metadata": {
        "colab_type": "text",
        "id": "-oZDZPyNCIt7"
      },
      "source": [
        "Extraction of most common used words and bar graph was inspired from the following blog post . [Very simple Python script for extracting most common words from a story](https://towardsdatascience.com/very-simple-python-script-for-extracting-most-common-words-from-a-story-1e3570d0b9d0)\n",
        "\n",
        "\n",
        "How to use custom color on dataframe plot can be found on following stackoverflow thread [Panda Bar graph custom color](https://stackoverflow.com/questions/11927715/how-to-give-a-pandas-matplotlib-bar-graph-custom-colors)\n"
      ]
    },
    {
      "cell_type": "code",
      "metadata": {
        "colab_type": "code",
        "outputId": "a50fd664-e877-442c-a7ab-ad504c0f9b80",
        "id": "OHuwF2gYCIt9",
        "colab": {
          "base_uri": "https://localhost:8080/",
          "height": 639
        }
      },
      "source": [
        "import matplotlib.pyplot as plt\n",
        "from itertools import cycle, islice\n",
        "\n",
        "\n",
        "word_df = pd.DataFrame({'name':[val[0] for val in top20_word] ,'count':[val[1] for val in top20_word]})\n",
        "\n",
        "my_colors = list(islice(cycle(['b', 'r', 'g', 'y', 'k']), None, len(word_df)))\n",
        "\n",
        "word_df = word_df.sort_values('count', 0)\n",
        "\n",
        "plot = word_df.plot(x='name',y='count' , alpha = 0.4 , color=my_colors , kind='barh', figsize=(8, 10), zorder=2, width=0.85)\n",
        "plot.set_ylabel('Most commonly used words')\n",
        "plot.set_xlabel(\"Count of word used\")\n",
        "plot.set_title(\"Visualizing the most popular used word\")\n",
        "\n",
        "\n",
        "\n",
        "\n",
        "\n"
      ],
      "execution_count": 0,
      "outputs": [
        {
          "output_type": "execute_result",
          "data": {
            "text/plain": [
              "Text(0.5, 1.0, 'Visualizing the most popular used word')"
            ]
          },
          "metadata": {
            "tags": []
          },
          "execution_count": 26
        },
        {
          "output_type": "display_data",
          "data": {
            "image/png": "[encoded data removed]",
            "text/plain": [
              "<Figure size 576x720 with 1 Axes>"
            ]
          },
          "metadata": {
            "tags": []
          }
        }
      ]
    },
    {
      "cell_type": "markdown",
      "metadata": {
        "colab_type": "text",
        "id": "F3Vw0EY1kcDb"
      },
      "source": [
        "#### Word Cloud of Obama "
      ]
    },
    {
      "cell_type": "markdown",
      "metadata": {
        "colab_type": "text",
        "id": "ZNLV4XDakcDh"
      },
      "source": [
        "Lets generate the word cloud for proper visualization most commonly used 20 words\n",
        "\n",
        "Tutorial refered from the blog Generating WordClouds in Python](https://www.datacamp.com/community/tutorials/wordcloud-python)"
      ]
    },
    {
      "cell_type": "code",
      "metadata": {
        "colab_type": "code",
        "outputId": "ddadabb6-521b-4cf5-bcf8-da59e90ea852",
        "id": "_oickrhmkcDi",
        "colab": {
          "base_uri": "https://localhost:8080/",
          "height": 254
        }
      },
      "source": [
        "from PIL import Image\n",
        "from wordcloud import WordCloud , ImageColorGenerator\n",
        "\n",
        "import matplotlib.pyplot as plt\n",
        "\n",
        "filtered_text = ' '.join(filters_word_barack)\n",
        "\n",
        "barack_wordcloud = WordCloud(max_font_size=80, max_words=20, background_color=\"white\").generate(filtered_text)\n",
        "plt.figure(figsize=(8,8))\n",
        "plt.imshow(barack_wordcloud, interpolation=\"bilinear\")\n",
        "plt.axis(\"off\")\n",
        "plt.show()\n",
        "\n"
      ],
      "execution_count": 0,
      "outputs": [
        {
          "output_type": "display_data",
          "data": {
            "image/png": "[encoded data removed]",
            "text/plain": [
              "<Figure size 576x576 with 1 Axes>"
            ]
          },
          "metadata": {
            "tags": []
          }
        }
      ]
    },
    {
      "cell_type": "markdown",
      "metadata": {
        "id": "w_KN-DXdULo-",
        "colab_type": "text"
      },
      "source": [
        "### Sentiment Analysis"
      ]
    },
    {
      "cell_type": "markdown",
      "metadata": {
        "id": "4a0e-2CZmLcB",
        "colab_type": "text"
      },
      "source": [
        "More about sentiment analysis can be found on the following blog post \n",
        "[Simplifying Sentiment Analysis using VADER in Python](https://medium.com/analytics-vidhya/simplifying-social-media-sentiment-analysis-using-vader-in-python-f9e6ec6fc52f) and [Twitter Sentiment analysis](https://towardsdatascience.com/almost-real-time-twitter-sentiment-analysis-with-tweep-vader-f88ed5b93b1c)"
      ]
    },
    {
      "cell_type": "markdown",
      "metadata": {
        "id": "oYYXBRv_ddwK",
        "colab_type": "text"
      },
      "source": [
        "#### Cleaning the twitter tweets"
      ]
    },
    {
      "cell_type": "code",
      "metadata": {
        "id": "ti5MgUqSURdh",
        "colab_type": "code",
        "colab": {}
      },
      "source": [
        "import numpy as np\n",
        "\n",
        "def remove_pattern(input_txt, pattern):\n",
        "  r = re.findall(pattern, input_txt)\n",
        "  for i in r:\n",
        "      input_txt = re.sub(i, '', input_txt)        \n",
        "  return input_txt\n",
        "  \n",
        "  \n",
        "def clean_tweets(lists):\n",
        "  # removing  twitter Return handles (RT @xxx:)\n",
        "  lists = np.vectorize(remove_pattern)(lists, \"RT @[\\w]*:\")\n",
        "  # remove twitter handles and such  (@xxx)\n",
        "  lists = np.vectorize(remove_pattern)(lists, \"@[\\w]*\")\n",
        "  # remove URL links (httpxxx or media link embeeded)\n",
        "  lists = [remove_tweet_url(text) for text in lists.values]\n",
        "  # remove special characters, numbers, punctuations (except for #)\n",
        "  lists = np.core.defchararray.replace(lst, \"[^a-zA-Z#]\", \" \")\n",
        "  return lists"
      ],
      "execution_count": 0,
      "outputs": []
    },
    {
      "cell_type": "code",
      "metadata": {
        "id": "PuGqTvWNgOOE",
        "colab_type": "code",
        "outputId": "d66a76a5-e3c7-4292-8a5f-cf56d3f71173",
        "colab": {
          "base_uri": "https://localhost:8080/",
          "height": 165
        }
      },
      "source": [
        "!pip install vaderSentiment\n",
        "import nltk\n",
        "nltk.download('vader_lexicon')\n"
      ],
      "execution_count": 0,
      "outputs": [
        {
          "output_type": "stream",
          "text": [
            "Collecting vaderSentiment\n",
            "\u001b[?25l  Downloading https://files.pythonhosted.org/packages/86/9e/c53e1fc61aac5ee490a6ac5e21b1ac04e55a7c2aba647bb8411c9aadf24e/vaderSentiment-3.2.1-py2.py3-none-any.whl (125kB)\n",
            "\u001b[K     |████████████████████████████████| 133kB 2.8MB/s \n",
            "\u001b[?25hInstalling collected packages: vaderSentiment\n",
            "Successfully installed vaderSentiment-3.2.1\n",
            "[nltk_data] Downloading package vader_lexicon to /root/nltk_data...\n"
          ],
          "name": "stdout"
        },
        {
          "output_type": "execute_result",
          "data": {
            "text/plain": [
              "True"
            ]
          },
          "metadata": {
            "tags": []
          },
          "execution_count": 29
        }
      ]
    },
    {
      "cell_type": "code",
      "metadata": {
        "id": "xtStcWtOoXb8",
        "colab_type": "code",
        "colab": {}
      },
      "source": [
        "from vaderSentiment.vaderSentiment import SentimentIntensityAnalyzer\n",
        "def sentiment_analysis(tweet_lists):\n",
        "    sentiments_text_array = []\n",
        "    sent_score_array = []\n",
        "    comp_score_array = []\n",
        "    sid = SentimentIntensityAnalyzer()\n",
        "    for tw in tweet_lists:\n",
        "        \n",
        "      score = sid.polarity_scores(tw)\n",
        "\n",
        "      comp_score = score['compound']\n",
        "\n",
        "      if comp_score > 0.05 :\n",
        "        txt =\"Positive\"\n",
        "      elif(comp_score > -0.05) and (comp_score < 0.05):\n",
        "        txt = \"Neutral\"\n",
        "      else : \n",
        "        txt = \"Negative\"\n",
        "      sentiments_text_array.append(txt)\n",
        "      \n",
        "      comp_score_array.append(comp_score)\n",
        "\n",
        "      sent_score_array.append(score)\n",
        "        \n",
        "    return sentiments_text_array , sent_score_array , comp_score_array\n",
        "  "
      ],
      "execution_count": 0,
      "outputs": []
    },
    {
      "cell_type": "code",
      "metadata": {
        "id": "tGY8dfNwgaPH",
        "colab_type": "code",
        "outputId": "ac12933f-86d1-462f-aa4b-f628b5219902",
        "colab": {
          "base_uri": "https://localhost:8080/",
          "height": 414
        }
      },
      "source": [
        "import nltk\n",
        "nltk.download('vader_lexicon')\n",
        "\n",
        "\n",
        "\n",
        "\n",
        "sid = SentimentIntensityAnalyzer()\n",
        "\n",
        "\n",
        "refined_df['clean_tweet'] = refined_df['tweet']\n",
        "\n",
        "\n",
        "refined_df['sentiment'] , refined_df['sentiment_score'] , refined_df['compound_sentiment'] = sentiment_analysis(refined_df['clean_tweet'].values)\n",
        "\n",
        "\n",
        "refined_df.head()\n",
        "\n",
        "\n",
        "plot = refined_df.groupby([\"person_name\",\"sentiment\"])['person_name'].count().unstack().plot(kind='bar' )\n",
        "\n",
        "plot.set_xlabel(\"Twitter Person Name\")\n",
        "\n",
        "plot.set_ylabel(\"Tweet Counts\")\n",
        "\n",
        "plot.set_title(\"Tweet Sentiment analysis\")"
      ],
      "execution_count": 0,
      "outputs": [
        {
          "output_type": "stream",
          "text": [
            "[nltk_data] Downloading package vader_lexicon to /root/nltk_data...\n",
            "[nltk_data]   Package vader_lexicon is already up-to-date!\n"
          ],
          "name": "stdout"
        },
        {
          "output_type": "execute_result",
          "data": {
            "text/plain": [
              "Text(0.5, 1.0, 'Tweet Sentiment analysis')"
            ]
          },
          "metadata": {
            "tags": []
          },
          "execution_count": 31
        },
        {
          "output_type": "display_data",
          "data": {
            "image/png": "[encoded data removed]",
            "text/plain": [
              "<Figure size 432x288 with 1 Axes>"
            ]
          },
          "metadata": {
            "tags": []
          }
        }
      ]
    },
    {
      "cell_type": "markdown",
      "metadata": {
        "id": "-2aUEE4UyY-g",
        "colab_type": "text"
      },
      "source": [
        "### Calculating average compound tweet of both user."
      ]
    },
    {
      "cell_type": "code",
      "metadata": {
        "id": "0vDS_ILF2VEu",
        "colab_type": "code",
        "colab": {}
      },
      "source": [
        "def cal_score(comp_score):\n",
        "  \n",
        "  if comp_score > 0.05 :\n",
        "    return \"Positive\"\n",
        "  elif(comp_score > -0.05) and (comp_score < 0.05):\n",
        "    return \"Neutral\"\n",
        "  else : \n",
        "    return \"Negative\""
      ],
      "execution_count": 0,
      "outputs": []
    },
    {
      "cell_type": "code",
      "metadata": {
        "id": "XR1KZKKgxdgG",
        "colab_type": "code",
        "outputId": "a6f3d658-9446-4087-8028-d2a0f114d997",
        "colab": {
          "base_uri": "https://localhost:8080/",
          "height": 72
        }
      },
      "source": [
        "barack_df = refined_df[refined_df['screen_name'] == 'BarackObama']\n",
        "\n",
        "jimmy_df = refined_df[refined_df['screen_name'] == 'jimmyfallon']\n",
        "\n",
        "total_compound_obama = (barack_df['compound_sentiment'].sum() )/ barack_df.shape[0]\n",
        "total_compound_fallon = jimmy_df['compound_sentiment'].sum() / jimmy_df.shape[0]\n",
        "\n",
        "print(\"the compound score of obama is :: \" , total_compound_obama , \"The compound score of fallon is\" ,  total_compound_fallon)\n",
        "\n",
        "\n",
        "print(\"The analysed sentiment of overall tweet of Barack Obama is ::  \" , cal_score(total_compound_obama) )\n",
        "\n",
        "print(\"The analysed sentiment of overall tweet of Jimmy Fallon is ::  \" , cal_score(total_compound_fallon) )\n",
        "\n",
        "\n",
        "\n"
      ],
      "execution_count": 0,
      "outputs": [
        {
          "output_type": "stream",
          "text": [
            "the compound score of obama is ::  0.4027695 The compound score of fallon is 0.28589400000000004\n",
            "The analysed sentiment of overall tweet of Barack Obama is ::   Positive\n",
            "The analysed sentiment of overall tweet of Jimmy Fallon is ::   Positive\n"
          ],
          "name": "stdout"
        }
      ]
    },
    {
      "cell_type": "markdown",
      "metadata": {
        "id": "03L_RU0t3u7c",
        "colab_type": "text"
      },
      "source": [
        "## Conversion to CSV finally"
      ]
    },
    {
      "cell_type": "code",
      "metadata": {
        "id": "nGL8kvKi2IBJ",
        "colab_type": "code",
        "colab": {}
      },
      "source": [
        " refined_df.to_csv( r'/content/Tweet.csv',index=False)"
      ],
      "execution_count": 0,
      "outputs": []
    }
  ]
}